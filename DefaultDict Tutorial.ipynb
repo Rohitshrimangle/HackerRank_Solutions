{
 "cells": [
  {
   "cell_type": "code",
   "execution_count": 1,
   "id": "d6148e41",
   "metadata": {},
   "outputs": [
    {
     "name": "stdout",
     "output_type": "stream",
     "text": [
      "5 2\n",
      "a\n",
      "a\n",
      "b\n",
      "a\n",
      "b\n",
      "a\n",
      "1 2 4\n",
      "b\n",
      "3 5\n"
     ]
    }
   ],
   "source": [
    "from collections import defaultdict\n",
    "\n",
    "d=defaultdict(list)\n",
    "n,m=list(map(int,input().split()))\n",
    "\n",
    "for i in range(n):\n",
    "    d[input()].append(i+1)\n",
    "    \n",
    "for i in range(m):\n",
    "    print(\" \".join(map(str,d[input()])) or -1)"
   ]
  },
  {
   "cell_type": "code",
   "execution_count": null,
   "id": "2a5fb951",
   "metadata": {},
   "outputs": [],
   "source": []
  },
  {
   "cell_type": "code",
   "execution_count": null,
   "id": "064f4cab",
   "metadata": {},
   "outputs": [],
   "source": [
    "5 2\n",
    "a\n",
    "a\n",
    "b\n",
    "a\n",
    "b\n",
    "a\n",
    "b"
   ]
  }
 ],
 "metadata": {
  "kernelspec": {
   "display_name": "Python 3 (ipykernel)",
   "language": "python",
   "name": "python3"
  },
  "language_info": {
   "codemirror_mode": {
    "name": "ipython",
    "version": 3
   },
   "file_extension": ".py",
   "mimetype": "text/x-python",
   "name": "python",
   "nbconvert_exporter": "python",
   "pygments_lexer": "ipython3",
   "version": "3.9.7"
  }
 },
 "nbformat": 4,
 "nbformat_minor": 5
}
