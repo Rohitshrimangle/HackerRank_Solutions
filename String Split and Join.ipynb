{
 "cells": [
  {
   "cell_type": "raw",
   "id": "2e167117",
   "metadata": {},
   "source": [
    "In Python, a string can be split on a delimiter.\n",
    "You are given a string. Split the string on a \" \" (space) delimiter and join using a - hyphen.\n"
   ]
  },
  {
   "cell_type": "code",
   "execution_count": 2,
   "id": "e0e72260",
   "metadata": {},
   "outputs": [
    {
     "name": "stdout",
     "output_type": "stream",
     "text": [
      "this-is-a-string\n"
     ]
    }
   ],
   "source": [
    "def split_and_join(line):\n",
    "    # write your code here\n",
    "    return '-'.join(line.split(' '))\n",
    "if __name__ == '__main__':\n",
    "    line ='this is a string'\n",
    "    result = split_and_join(line)\n",
    "    print (result)"
   ]
  },
  {
   "cell_type": "code",
   "execution_count": null,
   "id": "696ea122",
   "metadata": {},
   "outputs": [],
   "source": []
  }
 ],
 "metadata": {
  "kernelspec": {
   "display_name": "Python 3 (ipykernel)",
   "language": "python",
   "name": "python3"
  },
  "language_info": {
   "codemirror_mode": {
    "name": "ipython",
    "version": 3
   },
   "file_extension": ".py",
   "mimetype": "text/x-python",
   "name": "python",
   "nbconvert_exporter": "python",
   "pygments_lexer": "ipython3",
   "version": "3.9.7"
  }
 },
 "nbformat": 4,
 "nbformat_minor": 5
}
