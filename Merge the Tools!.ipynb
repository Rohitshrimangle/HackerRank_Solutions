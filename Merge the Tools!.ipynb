{
 "cells": [
  {
   "cell_type": "code",
   "execution_count": 10,
   "id": "387879af",
   "metadata": {},
   "outputs": [
    {
     "name": "stdout",
     "output_type": "stream",
     "text": [
      "AABCAAADA\n",
      "3\n",
      "AB\n",
      "CA\n",
      "AD\n"
     ]
    }
   ],
   "source": [
    "def merge_the_tools(string,k):\n",
    "    for i in range(0,len(string),k):\n",
    "        t=string[i:i+k]\n",
    "        u=set()\n",
    "        for j in t:\n",
    "            if j not in u:\n",
    "                print(j,end=\"\")\n",
    "                u.add(j)\n",
    "        print()\n",
    "if __name__=='__main__':\n",
    "    string,k=input(),int(input())\n",
    "    merge_the_tools(string,k)"
   ]
  },
  {
   "cell_type": "code",
   "execution_count": 40,
   "id": "9fb6088a",
   "metadata": {},
   "outputs": [
    {
     "name": "stdout",
     "output_type": "stream",
     "text": [
      "{'b': 7, 'a': 7, 'c': 4, 'd': 1}\n",
      "bacd\n"
     ]
    }
   ],
   "source": [
    "from collections import OrderedDict\n",
    "def solve(s):\n",
    "    d = {}\n",
    "    for c in s:\n",
    "        if c in d:\n",
    "            d[c] += 1\n",
    "        else:\n",
    "            d[c]=1\n",
    "    print(d)\n",
    "    return ''.join(d.keys())\n",
    "\n",
    "s = \"bbabcaaccdbaabababc\"\n",
    "print(solve(s))"
   ]
  },
  {
   "cell_type": "code",
   "execution_count": 39,
   "id": "5813734c",
   "metadata": {},
   "outputs": [
    {
     "name": "stdout",
     "output_type": "stream",
     "text": [
      "{'A': 3, 'B': 3, 'C': 2, 'D': 4}\n"
     ]
    }
   ],
   "source": [
    "Z=['A','B','C','D','A','A','B','C','D','D','D','B']\n",
    "E={}\n",
    "for i in Z:\n",
    "    if i in E:\n",
    "        E[i]+=1\n",
    "    else:\n",
    "        E[i]=1\n",
    "print(E)  "
   ]
  },
  {
   "cell_type": "code",
   "execution_count": null,
   "id": "8167ca41",
   "metadata": {},
   "outputs": [],
   "source": []
  }
 ],
 "metadata": {
  "kernelspec": {
   "display_name": "Python 3 (ipykernel)",
   "language": "python",
   "name": "python3"
  },
  "language_info": {
   "codemirror_mode": {
    "name": "ipython",
    "version": 3
   },
   "file_extension": ".py",
   "mimetype": "text/x-python",
   "name": "python",
   "nbconvert_exporter": "python",
   "pygments_lexer": "ipython3",
   "version": "3.9.7"
  }
 },
 "nbformat": 4,
 "nbformat_minor": 5
}
