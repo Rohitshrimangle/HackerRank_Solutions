{
 "cells": [
  {
   "cell_type": "raw",
   "id": "bb22b585",
   "metadata": {},
   "source": [
    "Given an integer,n, perform the following conditional actions:\n",
    "\n",
    "If n is odd, print Weird\n",
    "If n is even and in the inclusive range of 2 to 5, print Not Weird\n",
    "If n is even and in the inclusive range of 6 to 20, print Weird\n",
    "If n is even and greater than 20, print Not Weird"
   ]
  },
  {
   "cell_type": "code",
   "execution_count": 1,
   "id": "7f54fe26",
   "metadata": {},
   "outputs": [
    {
     "name": "stdout",
     "output_type": "stream",
     "text": [
      "2\n",
      "Not Weird\n"
     ]
    }
   ],
   "source": [
    "import math\n",
    "import os\n",
    "import random\n",
    "import re\n",
    "import sys\n",
    "\n",
    "\n",
    "\n",
    "if __name__ == '__main__':\n",
    "    n = int(input().strip())\n",
    "    \n",
    "    if(n%2!=0) or (n>=6 and n<=20):\n",
    "        print('Weird')\n",
    "    else:\n",
    "        print('Not Weird')"
   ]
  },
  {
   "cell_type": "code",
   "execution_count": null,
   "id": "c30b85f3",
   "metadata": {},
   "outputs": [],
   "source": []
  }
 ],
 "metadata": {
  "kernelspec": {
   "display_name": "Python 3 (ipykernel)",
   "language": "python",
   "name": "python3"
  },
  "language_info": {
   "codemirror_mode": {
    "name": "ipython",
    "version": 3
   },
   "file_extension": ".py",
   "mimetype": "text/x-python",
   "name": "python",
   "nbconvert_exporter": "python",
   "pygments_lexer": "ipython3",
   "version": "3.9.7"
  }
 },
 "nbformat": 4,
 "nbformat_minor": 5
}
