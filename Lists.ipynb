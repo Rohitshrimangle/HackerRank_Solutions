{
 "cells": [
  {
   "cell_type": "raw",
   "id": "d6cc5efa",
   "metadata": {},
   "source": [
    "Consider a list (list = []). You can perform the following commands:\n",
    "\n",
    "insert i e: Insert integer e at position i.\n",
    "print: Print the list.\n",
    "remove e: Delete the first occurrence of integer e.\n",
    "append e: Insert integer e at the end of the list.\n",
    "sort: Sort the list.\n",
    "pop: Pop the last element from the list.\n",
    "reverse: Reverse the list."
   ]
  },
  {
   "cell_type": "code",
   "execution_count": null,
   "id": "ac9151a3",
   "metadata": {},
   "outputs": [],
   "source": [
    "if __name__ == '__main__':\n",
    "    N = int(input())\n",
    "    arr=[]\n",
    "    for i in range(N):\n",
    "        s=input().split()\n",
    "        for i in range(1,len(s)):\n",
    "            s[i]=int(s[i])\n",
    "            \n",
    "        if s[0]== \"append\":\n",
    "            arr.append(s[1])\n",
    "        elif s[0]==\"insert\":\n",
    "            arr.insert(s[1],s[2])\n",
    "        elif s[0]== \"remove\":\n",
    "            arr.remove(s[1])\n",
    "        elif s[0]== \"pop\":\n",
    "            arr.pop()\n",
    "        elif s[0]==\"sort\":\n",
    "            arr.sort()\n",
    "        elif s[0]==\"reverse\":\n",
    "            arr.reverse()\n",
    "        elif s[0]==\"print\":\n",
    "            print(arr)"
   ]
  },
  {
   "cell_type": "code",
   "execution_count": null,
   "id": "348bb603",
   "metadata": {},
   "outputs": [],
   "source": []
  }
 ],
 "metadata": {
  "kernelspec": {
   "display_name": "Python 3 (ipykernel)",
   "language": "python",
   "name": "python3"
  },
  "language_info": {
   "codemirror_mode": {
    "name": "ipython",
    "version": 3
   },
   "file_extension": ".py",
   "mimetype": "text/x-python",
   "name": "python",
   "nbconvert_exporter": "python",
   "pygments_lexer": "ipython3",
   "version": "3.9.7"
  }
 },
 "nbformat": 4,
 "nbformat_minor": 5
}
