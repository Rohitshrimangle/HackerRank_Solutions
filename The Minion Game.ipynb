{
 "cells": [
  {
   "cell_type": "raw",
   "id": "7e7c14ed",
   "metadata": {},
   "source": [
    "Both players are given the same string, S.\n",
    "Both players have to make substrings using the letters of the string S.\n",
    "Stuart has to make words starting with consonants.\n",
    "Kevin has to make words starting with vowels.\n",
    "The game ends when both players have made all possible substrings."
   ]
  },
  {
   "cell_type": "code",
   "execution_count": 1,
   "id": "d4e18d57",
   "metadata": {},
   "outputs": [
    {
     "name": "stdout",
     "output_type": "stream",
     "text": [
      "BANANA\n",
      "Stuart 12\n"
     ]
    }
   ],
   "source": [
    "def minion_game(string):\n",
    "    # your code goes here\n",
    "    vowels=\"AEIOU\"\n",
    "    KS=0\n",
    "    SS=0\n",
    "    for i in range(len(s)):\n",
    "        if s[i] in vowels:\n",
    "            KS+=(len(s)-i)\n",
    "        else:\n",
    "            SS+=(len(s)-i)\n",
    "    if KS>SS:\n",
    "        print(f\"Kevin {KS}\")\n",
    "    elif KS<SS:\n",
    "        print(f\"Stuart {SS}\")\n",
    "    else:\n",
    "        print('Draw')\n",
    "            \n",
    "\n",
    "if __name__ == '__main__':\n",
    "    s = input()\n",
    "    minion_game(s)"
   ]
  },
  {
   "cell_type": "code",
   "execution_count": null,
   "id": "2a434f65",
   "metadata": {},
   "outputs": [],
   "source": []
  }
 ],
 "metadata": {
  "kernelspec": {
   "display_name": "Python 3 (ipykernel)",
   "language": "python",
   "name": "python3"
  },
  "language_info": {
   "codemirror_mode": {
    "name": "ipython",
    "version": 3
   },
   "file_extension": ".py",
   "mimetype": "text/x-python",
   "name": "python",
   "nbconvert_exporter": "python",
   "pygments_lexer": "ipython3",
   "version": "3.9.7"
  }
 },
 "nbformat": 4,
 "nbformat_minor": 5
}
