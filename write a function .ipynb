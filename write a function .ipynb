{
 "cells": [
  {
   "cell_type": "raw",
   "id": "5853203f",
   "metadata": {},
   "source": [
    "An extra day is added to the calendar almost every four years as February 29, and the day is called a leap day. It corrects the calendar for the fact that our planet takes approximately 365.25 days to orbit the sun. A leap year contains a leap day.\n",
    "\n",
    "In the Gregorian calendar, three conditions are used to identify leap years:\n",
    "\n",
    "The year can be evenly divided by 4, is a leap year, unless:\n",
    "The year can be evenly divided by 100, it is NOT a leap year, unless:\n",
    "The year is also evenly divisible by 400. Then it is a leap year.\n",
    "This means that in the Gregorian calendar, the years 2000 and 2400 are leap years, while 1800, 1900, 2100, 2200, 2300 and 2500 are NOT leap years. Source"
   ]
  },
  {
   "cell_type": "raw",
   "id": "4a61f21d",
   "metadata": {},
   "source": [
    "Given a year, determine whether it is a leap year. If it is a leap year, return the Boolean True, otherwise return False.\n",
    "\n",
    "Note that the code stub provided reads from STDIN and passes arguments to the is_leap function. It is only necessary to complete the is_leap function."
   ]
  },
  {
   "cell_type": "code",
   "execution_count": 2,
   "id": "60414046",
   "metadata": {},
   "outputs": [
    {
     "name": "stdout",
     "output_type": "stream",
     "text": [
      "2001\n",
      "False\n"
     ]
    }
   ],
   "source": [
    "def is_leap(year):\n",
    "    # Write your logic here\n",
    "    if year % 400 == 0:\n",
    "        return True\n",
    "    if year % 100 == 0:\n",
    "        return False\n",
    "    if year % 4 == 0:\n",
    "        return True\n",
    "    return False\n",
    "\n",
    "year = int(input())\n",
    "print(is_leap(year))"
   ]
  },
  {
   "cell_type": "code",
   "execution_count": null,
   "id": "471f4d3b",
   "metadata": {},
   "outputs": [],
   "source": []
  }
 ],
 "metadata": {
  "kernelspec": {
   "display_name": "Python 3 (ipykernel)",
   "language": "python",
   "name": "python3"
  },
  "language_info": {
   "codemirror_mode": {
    "name": "ipython",
    "version": 3
   },
   "file_extension": ".py",
   "mimetype": "text/x-python",
   "name": "python",
   "nbconvert_exporter": "python",
   "pygments_lexer": "ipython3",
   "version": "3.9.7"
  }
 },
 "nbformat": 4,
 "nbformat_minor": 5
}
